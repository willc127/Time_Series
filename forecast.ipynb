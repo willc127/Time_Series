{
 "cells": [
  {
   "cell_type": "code",
   "execution_count": null,
   "metadata": {},
   "outputs": [],
   "source": [
    "import pandas as pd\n",
    "import numpy as np\n",
    "import matplotlib.pylab as plt\n",
    "from datetime import datetime\n",
    "from pmdarima.arima import auto_arima"
   ]
  },
  {
   "cell_type": "code",
   "execution_count": null,
   "metadata": {},
   "outputs": [],
   "source": [
    "#Read data from csv file\n",
    "data = pd.read_csv('AirPassengers.csv', index_col='Month', parse_dates=True)\n",
    "display(data)"
   ]
  },
  {
   "cell_type": "code",
   "execution_count": null,
   "metadata": {},
   "outputs": [],
   "source": [
    "#Define the month and year as index\n",
    "month_year = data.index\n",
    "print(month_year)\n",
    "#Define the passengers for each month_year\n",
    "Passenger = data['#Passengers']"
   ]
  },
  {
   "cell_type": "code",
   "execution_count": null,
   "metadata": {},
   "outputs": [],
   "source": [
    "#Define training and testing data\n",
    "train = data.loc['1949-01-01':'1959-12-01'] #\n",
    "test = data.loc['1960-01-01':] #Last year\n",
    "display(train)\n",
    "display(test)"
   ]
  },
  {
   "cell_type": "code",
   "execution_count": null,
   "metadata": {},
   "outputs": [],
   "source": [
    "#Create a model from the train data\n",
    "time_model_train = auto_arima(train, start_p=1, start_d= 0, start_q=1,  max_p=3, max_d=2, max_q=5, start_P=0,  seasonal=True, m=12, trace=True, stepwise=False)"
   ]
  },
  {
   "attachments": {},
   "cell_type": "markdown",
   "metadata": {},
   "source": [
    "This code is using the auto_arima function from the pmdarima library to fit an auto-regressive integrated moving average (ARIMA) model to the time series data. ARIMA is a popular method for time series forecasting that combines both autoregression (AR) and moving average (MA) models to produce a more accurate prediction.\n",
    "\n",
    "The start_p, start_q, start_d, start_P parameters specify the starting values for the autoregression (p), moving average (q), differences (d), and seasonal autoregression (P) orders. The max_p and max_q parameters specify the maximum values for p and q respectively. The seasonal parameter specifies whether the model should have a seasonal component or not. The m parameter specifies the number of time steps in the seasonal component. The trace parameter is a boolean that controls whether the function displays the intermediate steps in the optimization process or not. The stepwise parameter is a boolean that determines whether the function should use stepwise optimization to determine the ARIMA orders or not.\n",
    "\n",
    "The function returns an ARIMA model object that has been fitted to the input data. The model can then be used to make predictions on future time series data."
   ]
  },
  {
   "cell_type": "code",
   "execution_count": null,
   "metadata": {},
   "outputs": [],
   "source": [
    "#Display a summary of the training model\n",
    "print(time_model_train.summary())"
   ]
  },
  {
   "cell_type": "code",
   "execution_count": null,
   "metadata": {},
   "outputs": [],
   "source": [
    "#Predict the test data\n",
    "test_forecast = time_model_train.predict(n_periods=12)"
   ]
  },
  {
   "cell_type": "code",
   "execution_count": null,
   "metadata": {},
   "outputs": [],
   "source": [
    "#Plot the test data (last year) and the predicted data\n",
    "plt.title('Test Data and Predicted Data' + '\\n' + str(time_model_train), loc='center')\n",
    "plt.plot(test, color = 'blue', label = 'Actual')\n",
    "plt.plot(test_forecast, color='red', label = 'Predicted')\n",
    "plt.legend(loc='best', frameon=False)\n",
    "plt.xlabel('Year')\n",
    "plt.ylabel('Passengers')"
   ]
  },
  {
   "cell_type": "code",
   "execution_count": null,
   "metadata": {},
   "outputs": [],
   "source": [
    "#Plot the data and the predicted data\n",
    "plt.figure(figsize=(10,6))\n",
    "plt.title('Test Data and Predicted Data' + '\\n' + str(time_model_train), loc='center')\n",
    "plt.plot(Passenger, color = 'blue', label = 'Actual')\n",
    "plt.plot(test_forecast, color='red', label = 'Predicted')\n",
    "plt.legend(loc='best', frameon=False)\n",
    "plt.xlabel('Year')\n",
    "plt.ylabel('Passengers')"
   ]
  },
  {
   "cell_type": "code",
   "execution_count": null,
   "metadata": {},
   "outputs": [],
   "source": [
    "#Forecast the next 12 months using all the data\n",
    "time_model = auto_arima(data, start_p=1, start_d= 0, start_q=1,  max_p=3, max_d=2, max_q=5, start_P=0,  seasonal=True, m=12, trace=True, stepwise=False)"
   ]
  },
  {
   "cell_type": "code",
   "execution_count": null,
   "metadata": {},
   "outputs": [],
   "source": [
    "#Display a summary of the model\n",
    "print(time_model.summary())"
   ]
  },
  {
   "cell_type": "code",
   "execution_count": 64,
   "metadata": {},
   "outputs": [],
   "source": [
    "del forecast, forecast_df"
   ]
  },
  {
   "cell_type": "code",
   "execution_count": 93,
   "metadata": {},
   "outputs": [],
   "source": [
    "#Predict the next 12 months with a confidence level of 95%\n",
    "forecast, confint = time_model.predict(n_periods=12, return_conf_int=True, alpha=0.05)\n",
    "lower, upper = confint[:, 0], confint[:, 1]\n"
   ]
  },
  {
   "cell_type": "code",
   "execution_count": 94,
   "metadata": {},
   "outputs": [
    {
     "data": {
      "text/html": [
       "<div>\n",
       "<style scoped>\n",
       "    .dataframe tbody tr th:only-of-type {\n",
       "        vertical-align: middle;\n",
       "    }\n",
       "\n",
       "    .dataframe tbody tr th {\n",
       "        vertical-align: top;\n",
       "    }\n",
       "\n",
       "    .dataframe thead th {\n",
       "        text-align: right;\n",
       "    }\n",
       "</style>\n",
       "<table border=\"1\" class=\"dataframe\">\n",
       "  <thead>\n",
       "    <tr style=\"text-align: right;\">\n",
       "      <th></th>\n",
       "      <th>#Passengers</th>\n",
       "    </tr>\n",
       "    <tr>\n",
       "      <th>Month</th>\n",
       "      <th></th>\n",
       "    </tr>\n",
       "  </thead>\n",
       "  <tbody>\n",
       "    <tr>\n",
       "      <th>1949-01-01</th>\n",
       "      <td>112</td>\n",
       "    </tr>\n",
       "    <tr>\n",
       "      <th>1949-02-01</th>\n",
       "      <td>118</td>\n",
       "    </tr>\n",
       "    <tr>\n",
       "      <th>1949-03-01</th>\n",
       "      <td>132</td>\n",
       "    </tr>\n",
       "    <tr>\n",
       "      <th>1949-04-01</th>\n",
       "      <td>129</td>\n",
       "    </tr>\n",
       "    <tr>\n",
       "      <th>1949-05-01</th>\n",
       "      <td>121</td>\n",
       "    </tr>\n",
       "    <tr>\n",
       "      <th>...</th>\n",
       "      <td>...</td>\n",
       "    </tr>\n",
       "    <tr>\n",
       "      <th>1960-08-01</th>\n",
       "      <td>606</td>\n",
       "    </tr>\n",
       "    <tr>\n",
       "      <th>1960-09-01</th>\n",
       "      <td>508</td>\n",
       "    </tr>\n",
       "    <tr>\n",
       "      <th>1960-10-01</th>\n",
       "      <td>461</td>\n",
       "    </tr>\n",
       "    <tr>\n",
       "      <th>1960-11-01</th>\n",
       "      <td>390</td>\n",
       "    </tr>\n",
       "    <tr>\n",
       "      <th>1960-12-01</th>\n",
       "      <td>432</td>\n",
       "    </tr>\n",
       "  </tbody>\n",
       "</table>\n",
       "<p>144 rows × 1 columns</p>\n",
       "</div>"
      ],
      "text/plain": [
       "            #Passengers\n",
       "Month                  \n",
       "1949-01-01          112\n",
       "1949-02-01          118\n",
       "1949-03-01          132\n",
       "1949-04-01          129\n",
       "1949-05-01          121\n",
       "...                 ...\n",
       "1960-08-01          606\n",
       "1960-09-01          508\n",
       "1960-10-01          461\n",
       "1960-11-01          390\n",
       "1960-12-01          432\n",
       "\n",
       "[144 rows x 1 columns]"
      ]
     },
     "metadata": {},
     "output_type": "display_data"
    },
    {
     "data": {
      "text/html": [
       "<div>\n",
       "<style scoped>\n",
       "    .dataframe tbody tr th:only-of-type {\n",
       "        vertical-align: middle;\n",
       "    }\n",
       "\n",
       "    .dataframe tbody tr th {\n",
       "        vertical-align: top;\n",
       "    }\n",
       "\n",
       "    .dataframe thead th {\n",
       "        text-align: right;\n",
       "    }\n",
       "</style>\n",
       "<table border=\"1\" class=\"dataframe\">\n",
       "  <thead>\n",
       "    <tr style=\"text-align: right;\">\n",
       "      <th></th>\n",
       "      <th>Forecast</th>\n",
       "    </tr>\n",
       "  </thead>\n",
       "  <tbody>\n",
       "    <tr>\n",
       "      <th>1961-01-01</th>\n",
       "      <td>450.053613</td>\n",
       "    </tr>\n",
       "    <tr>\n",
       "      <th>1961-02-01</th>\n",
       "      <td>422.963495</td>\n",
       "    </tr>\n",
       "    <tr>\n",
       "      <th>1961-03-01</th>\n",
       "      <td>465.827879</td>\n",
       "    </tr>\n",
       "    <tr>\n",
       "      <th>1961-04-01</th>\n",
       "      <td>490.334823</td>\n",
       "    </tr>\n",
       "    <tr>\n",
       "      <th>1961-05-01</th>\n",
       "      <td>507.781544</td>\n",
       "    </tr>\n",
       "    <tr>\n",
       "      <th>1961-06-01</th>\n",
       "      <td>575.302540</td>\n",
       "    </tr>\n",
       "    <tr>\n",
       "      <th>1961-07-01</th>\n",
       "      <td>663.439945</td>\n",
       "    </tr>\n",
       "    <tr>\n",
       "      <th>1961-08-01</th>\n",
       "      <td>657.623670</td>\n",
       "    </tr>\n",
       "    <tr>\n",
       "      <th>1961-09-01</th>\n",
       "      <td>549.387561</td>\n",
       "    </tr>\n",
       "    <tr>\n",
       "      <th>1961-10-01</th>\n",
       "      <td>495.696128</td>\n",
       "    </tr>\n",
       "    <tr>\n",
       "      <th>1961-11-01</th>\n",
       "      <td>428.754796</td>\n",
       "    </tr>\n",
       "    <tr>\n",
       "      <th>1961-12-01</th>\n",
       "      <td>471.939566</td>\n",
       "    </tr>\n",
       "  </tbody>\n",
       "</table>\n",
       "</div>"
      ],
      "text/plain": [
       "              Forecast\n",
       "1961-01-01  450.053613\n",
       "1961-02-01  422.963495\n",
       "1961-03-01  465.827879\n",
       "1961-04-01  490.334823\n",
       "1961-05-01  507.781544\n",
       "1961-06-01  575.302540\n",
       "1961-07-01  663.439945\n",
       "1961-08-01  657.623670\n",
       "1961-09-01  549.387561\n",
       "1961-10-01  495.696128\n",
       "1961-11-01  428.754796\n",
       "1961-12-01  471.939566"
      ]
     },
     "metadata": {},
     "output_type": "display_data"
    },
    {
     "data": {
      "text/html": [
       "<div>\n",
       "<style scoped>\n",
       "    .dataframe tbody tr th:only-of-type {\n",
       "        vertical-align: middle;\n",
       "    }\n",
       "\n",
       "    .dataframe tbody tr th {\n",
       "        vertical-align: top;\n",
       "    }\n",
       "\n",
       "    .dataframe thead th {\n",
       "        text-align: right;\n",
       "    }\n",
       "</style>\n",
       "<table border=\"1\" class=\"dataframe\">\n",
       "  <thead>\n",
       "    <tr style=\"text-align: right;\">\n",
       "      <th></th>\n",
       "      <th>Lower Bound</th>\n",
       "    </tr>\n",
       "  </thead>\n",
       "  <tbody>\n",
       "    <tr>\n",
       "      <th>0</th>\n",
       "      <td>429.175487</td>\n",
       "    </tr>\n",
       "    <tr>\n",
       "      <th>1</th>\n",
       "      <td>398.916071</td>\n",
       "    </tr>\n",
       "    <tr>\n",
       "      <th>2</th>\n",
       "      <td>438.982750</td>\n",
       "    </tr>\n",
       "    <tr>\n",
       "      <th>3</th>\n",
       "      <td>460.957224</td>\n",
       "    </tr>\n",
       "    <tr>\n",
       "      <th>4</th>\n",
       "      <td>476.073097</td>\n",
       "    </tr>\n",
       "    <tr>\n",
       "      <th>5</th>\n",
       "      <td>541.423225</td>\n",
       "    </tr>\n",
       "    <tr>\n",
       "      <th>6</th>\n",
       "      <td>627.520726</td>\n",
       "    </tr>\n",
       "    <tr>\n",
       "      <th>7</th>\n",
       "      <td>619.774328</td>\n",
       "    </tr>\n",
       "    <tr>\n",
       "      <th>8</th>\n",
       "      <td>509.701858</td>\n",
       "    </tr>\n",
       "    <tr>\n",
       "      <th>9</th>\n",
       "      <td>454.255359</td>\n",
       "    </tr>\n",
       "    <tr>\n",
       "      <th>10</th>\n",
       "      <td>385.630328</td>\n",
       "    </tr>\n",
       "    <tr>\n",
       "      <th>11</th>\n",
       "      <td>427.194709</td>\n",
       "    </tr>\n",
       "  </tbody>\n",
       "</table>\n",
       "</div>"
      ],
      "text/plain": [
       "    Lower Bound\n",
       "0    429.175487\n",
       "1    398.916071\n",
       "2    438.982750\n",
       "3    460.957224\n",
       "4    476.073097\n",
       "5    541.423225\n",
       "6    627.520726\n",
       "7    619.774328\n",
       "8    509.701858\n",
       "9    454.255359\n",
       "10   385.630328\n",
       "11   427.194709"
      ]
     },
     "metadata": {},
     "output_type": "display_data"
    },
    {
     "data": {
      "text/html": [
       "<div>\n",
       "<style scoped>\n",
       "    .dataframe tbody tr th:only-of-type {\n",
       "        vertical-align: middle;\n",
       "    }\n",
       "\n",
       "    .dataframe tbody tr th {\n",
       "        vertical-align: top;\n",
       "    }\n",
       "\n",
       "    .dataframe thead th {\n",
       "        text-align: right;\n",
       "    }\n",
       "</style>\n",
       "<table border=\"1\" class=\"dataframe\">\n",
       "  <thead>\n",
       "    <tr style=\"text-align: right;\">\n",
       "      <th></th>\n",
       "      <th>Upper Bound</th>\n",
       "    </tr>\n",
       "  </thead>\n",
       "  <tbody>\n",
       "    <tr>\n",
       "      <th>0</th>\n",
       "      <td>470.931740</td>\n",
       "    </tr>\n",
       "    <tr>\n",
       "      <th>1</th>\n",
       "      <td>447.010919</td>\n",
       "    </tr>\n",
       "    <tr>\n",
       "      <th>2</th>\n",
       "      <td>492.673008</td>\n",
       "    </tr>\n",
       "    <tr>\n",
       "      <th>3</th>\n",
       "      <td>519.712421</td>\n",
       "    </tr>\n",
       "    <tr>\n",
       "      <th>4</th>\n",
       "      <td>539.489991</td>\n",
       "    </tr>\n",
       "    <tr>\n",
       "      <th>5</th>\n",
       "      <td>609.181855</td>\n",
       "    </tr>\n",
       "    <tr>\n",
       "      <th>6</th>\n",
       "      <td>699.359164</td>\n",
       "    </tr>\n",
       "    <tr>\n",
       "      <th>7</th>\n",
       "      <td>695.473012</td>\n",
       "    </tr>\n",
       "    <tr>\n",
       "      <th>8</th>\n",
       "      <td>589.073264</td>\n",
       "    </tr>\n",
       "    <tr>\n",
       "      <th>9</th>\n",
       "      <td>537.136897</td>\n",
       "    </tr>\n",
       "    <tr>\n",
       "      <th>10</th>\n",
       "      <td>471.879263</td>\n",
       "    </tr>\n",
       "    <tr>\n",
       "      <th>11</th>\n",
       "      <td>516.684423</td>\n",
       "    </tr>\n",
       "  </tbody>\n",
       "</table>\n",
       "</div>"
      ],
      "text/plain": [
       "    Upper Bound\n",
       "0    470.931740\n",
       "1    447.010919\n",
       "2    492.673008\n",
       "3    519.712421\n",
       "4    539.489991\n",
       "5    609.181855\n",
       "6    699.359164\n",
       "7    695.473012\n",
       "8    589.073264\n",
       "9    537.136897\n",
       "10   471.879263\n",
       "11   516.684423"
      ]
     },
     "metadata": {},
     "output_type": "display_data"
    }
   ],
   "source": [
    "#Convert forecast, lower and upper to a dataframe\n",
    "def forecast_to_dataframe(forecast, lower, upper):\n",
    "    forecast_df = pd.DataFrame(forecast)\n",
    "    lower_df = pd.DataFrame(lower)\n",
    "    upper_df = pd.DataFrame(upper)\n",
    "    forecast_df.columns = ['Forecast']\n",
    "    lower_df.columns = ['Lower Bound']\n",
    "    upper_df.columns = ['Upper Bound']\n",
    "    return forecast_df, lower_df, upper_df\n",
    "\n",
    "forecast, lower, upper = forecast_to_dataframe(forecast, lower, upper)\n",
    "display(data)\n",
    "display(forecast, lower, upper)"
   ]
  },
  {
   "cell_type": "code",
   "execution_count": 95,
   "metadata": {},
   "outputs": [
    {
     "name": "stdout",
     "output_type": "stream",
     "text": [
      "DatetimeIndex(['1961-01-01', '1961-02-01', '1961-03-01', '1961-04-01',\n",
      "               '1961-05-01', '1961-06-01', '1961-07-01', '1961-08-01',\n",
      "               '1961-09-01', '1961-10-01', '1961-11-01', '1961-12-01'],\n",
      "              dtype='datetime64[ns]', freq='MS')\n"
     ]
    }
   ],
   "source": [
    "print(forecast.index)"
   ]
  },
  {
   "cell_type": "code",
   "execution_count": 104,
   "metadata": {},
   "outputs": [
    {
     "data": {
      "text/plain": [
       "<matplotlib.legend.Legend at 0x23a12c55810>"
      ]
     },
     "execution_count": 104,
     "metadata": {},
     "output_type": "execute_result"
    },
    {
     "data": {
      "image/png": "[encoded data removed]",
      "text/plain": [
       "<Figure size 800x500 with 1 Axes>"
      ]
     },
     "metadata": {},
     "output_type": "display_data"
    }
   ],
   "source": [
    "plt.figure(figsize=(8,5))\n",
    "plt.plot(forecast, color='red', label = 'Predicted')\n",
    "\n",
    "lower = pd.Series(confint[:, 0])\n",
    "upper = pd.Series(confint[:, 1])\n",
    "\n",
    "plt.fill_between(forecast.index, \n",
    "                 lower, \n",
    "                 upper, \n",
    "                 color='r', alpha=.15)\n",
    "\n",
    "plt.legend(loc='best', frameon=False)"
   ]
  },
  {
   "cell_type": "code",
   "execution_count": 106,
   "metadata": {},
   "outputs": [
    {
     "data": {
      "text/plain": [
       "<matplotlib.legend.Legend at 0x23a14e2aa90>"
      ]
     },
     "execution_count": 106,
     "metadata": {},
     "output_type": "execute_result"
    },
    {
     "data": {
      "image/png": "[encoded data removed]",
      "text/plain": [
       "<Figure size 1300x800 with 1 Axes>"
      ]
     },
     "metadata": {},
     "output_type": "display_data"
    }
   ],
   "source": [
    "plt.figure(figsize=(13,8))\n",
    "plt.plot(Passenger, color = 'blue', label = 'Actual')\n",
    "plt.plot(forecast, color='red', label = 'Predicted')\n",
    "plt.fill_between(forecast.index, \n",
    "                 lower, \n",
    "                 upper, \n",
    "                 color='r', alpha=.15)\n",
    "plt.legend(loc='upper left', frameon=False)"
   ]
  }
 ],
 "metadata": {
  "kernelspec": {
   "display_name": "Python 3",
   "language": "python",
   "name": "python3"
  },
  "language_info": {
   "codemirror_mode": {
    "name": "ipython",
    "version": 3
   },
   "file_extension": ".py",
   "mimetype": "text/x-python",
   "name": "python",
   "nbconvert_exporter": "python",
   "pygments_lexer": "ipython3",
   "version": "3.11.1"
  },
  "orig_nbformat": 4,
  "vscode": {
   "interpreter": {
    "hash": "0f936f15a1645b7aa20087d3a97f1d17223522717264c1db5bbe498837b523be"
   }
  }
 },
 "nbformat": 4,
 "nbformat_minor": 2
}
